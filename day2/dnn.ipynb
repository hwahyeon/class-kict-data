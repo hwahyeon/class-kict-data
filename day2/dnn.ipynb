{
 "cells": [
  {
   "cell_type": "code",
   "execution_count": 36,
   "metadata": {},
   "outputs": [],
   "source": [
    "import tensorflow as tf\n",
    "import numpy as np\n",
    "import pandas as pd"
   ]
  },
  {
   "cell_type": "code",
   "execution_count": 4,
   "metadata": {},
   "outputs": [
    {
     "name": "stdout",
     "output_type": "stream",
     "text": [
      "Extracting data/minst/train-images-idx3-ubyte.gz\n",
      "Extracting data/minst/train-labels-idx1-ubyte.gz\n",
      "Extracting data/minst/t10k-images-idx3-ubyte.gz\n",
      "Extracting data/minst/t10k-labels-idx1-ubyte.gz\n"
     ]
    }
   ],
   "source": [
    "from tensorflow.examples.tutorials.mnist import input_data\n",
    "mnist = input_data.read_data_sets(\"data/minst\",one_hot=True)"
   ]
  },
  {
   "cell_type": "code",
   "execution_count": 5,
   "metadata": {},
   "outputs": [
    {
     "data": {
      "text/plain": [
       "(100, 784)"
      ]
     },
     "execution_count": 5,
     "metadata": {},
     "output_type": "execute_result"
    }
   ],
   "source": [
    "train_x,train_y = mnist.train.next_batch(100)\n",
    "train_x.shape"
   ]
  },
  {
   "cell_type": "code",
   "execution_count": 8,
   "metadata": {},
   "outputs": [],
   "source": [
    "X = tf.placeholder(tf.float32,[None,784])\n",
    "Y = tf.placeholder(tf.float32,[None,10])\n",
    "\n",
    "W1 = tf.Variable(tf.random_normal([784,10]))\n",
    "b1 = tf.Variable(tf.random_normal([10]))\n",
    "\n",
    "model = tf.matmul(X,W1)+b1\n",
    "\n",
    "cost = tf.reduce_mean(tf.nn.softmax_cross_entropy_with_logits_v2(logits=model,labels=Y))\n",
    "optimizer = tf.train.AdamOptimizer(learning_rate=0.01).minimize(cost)"
   ]
  },
  {
   "cell_type": "code",
   "execution_count": 11,
   "metadata": {},
   "outputs": [
    {
     "name": "stdout",
     "output_type": "stream",
     "text": [
      "3.3542889952659607\n",
      "0.9408789279405028\n",
      "0.7079332135617733\n",
      "0.6128701425623149\n",
      "0.5604628624860197\n",
      "0.49037165695335716\n",
      "0.5180885554291308\n",
      "0.43683218478690833\n",
      "0.43900391401257366\n",
      "0.4089803920360282\n",
      "0.406561644282192\n",
      "0.3891004273900762\n",
      "0.3754567881114781\n",
      "0.36267802241491154\n",
      "0.38427092495840043\n"
     ]
    }
   ],
   "source": [
    "init = tf.global_variables_initializer()\n",
    "sess = tf.Session()\n",
    "sess.run(init)\n",
    "\n",
    "batch_size = 128;\n",
    "total_batch = mnist.train.num_examples // batch_size\n",
    "for epoch in range(15):\n",
    "    total_cost = 0\n",
    "    for i in range(batch_size):\n",
    "        train_x,train_y = mnist.train.next_batch(batch_size)\n",
    "        _,l_cost = sess.run([optimizer,cost],feed_dict={X:train_x,Y:train_y})\n",
    "        total_cost += l_cost\n",
    "        pass\n",
    "    print(total_cost/batch_size)\n",
    "    pass\n"
   ]
  },
  {
   "cell_type": "code",
   "execution_count": 13,
   "metadata": {},
   "outputs": [
    {
     "name": "stdout",
     "output_type": "stream",
     "text": [
      "0.8976\n"
     ]
    }
   ],
   "source": [
    "is_correct = tf.equal(tf.argmax(model,1),tf.argmax(Y,1))\n",
    "accuracy = tf.reduce_mean(tf.cast(is_correct,tf.float32))\n",
    "result = sess.run(accuracy,feed_dict={X:mnist.test.images,Y:mnist.test.labels})\n",
    "print(result)"
   ]
  },
  {
   "cell_type": "code",
   "execution_count": 15,
   "metadata": {},
   "outputs": [
    {
     "name": "stdout",
     "output_type": "stream",
     "text": [
      "[[0. 0. 0. ... 0. 0. 0.]\n",
      " [0. 0. 0. ... 0. 0. 0.]\n",
      " [0. 0. 0. ... 0. 0. 0.]]\n",
      "[[0. 0. 0. 0. 0. 0. 0. 1. 0. 0.]\n",
      " [0. 0. 1. 0. 0. 0. 0. 0. 0. 0.]\n",
      " [0. 1. 0. 0. 0. 0. 0. 0. 0. 0.]]\n"
     ]
    }
   ],
   "source": [
    "print(mnist.test.images[0:3])\n",
    "print(mnist.test.labels[0:3])"
   ]
  },
  {
   "cell_type": "code",
   "execution_count": 35,
   "metadata": {},
   "outputs": [],
   "source": [
    "labels = sess.run(model,feed_dict={X:mnist.test.images[0:3]})"
   ]
  },
  {
   "cell_type": "code",
   "execution_count": 34,
   "metadata": {},
   "outputs": [
    {
     "name": "stdout",
     "output_type": "stream",
     "text": [
      "[[ 1.2975929e+00 -1.7827547e+01  6.8372953e-01  9.5642471e+00\n",
      "  -1.6239123e+00  2.1359122e+00 -1.3566011e+01  1.9254057e+01\n",
      "   2.4321074e+00  7.6602740e+00]\n",
      " [ 2.1026850e-02 -6.7507696e+00  1.5044388e+01  5.0959902e+00\n",
      "  -3.6514080e+01  8.3824940e+00  1.2727129e+00 -4.4603409e+01\n",
      "  -1.8127412e+00 -2.2420746e+01]\n",
      " [-1.3171693e+01  6.6449394e+00  2.8805968e-01 -4.0931356e-01\n",
      "  -4.8990765e+00 -4.1200428e+00 -4.0728722e+00 -2.0464232e+00\n",
      "  -1.4820461e+00 -5.1265173e+00]]\n"
     ]
    }
   ],
   "source": [
    "print(labels)"
   ]
  },
  {
   "cell_type": "code",
   "execution_count": 19,
   "metadata": {},
   "outputs": [
    {
     "name": "stdout",
     "output_type": "stream",
     "text": [
      "[7 2 1]\n"
     ]
    }
   ],
   "source": [
    "print(sess.run(tf.argmax(labels,1)))"
   ]
  },
  {
   "cell_type": "code",
   "execution_count": 20,
   "metadata": {},
   "outputs": [
    {
     "name": "stdout",
     "output_type": "stream",
     "text": [
      "[7 2 1]\n"
     ]
    }
   ],
   "source": [
    "print(np.argmax(mnist.test.labels[0:3],1))"
   ]
  },
  {
   "cell_type": "code",
   "execution_count": 21,
   "metadata": {},
   "outputs": [],
   "source": [
    "import matplotlib.pyplot as plt\n",
    "%matplotlib inline"
   ]
  },
  {
   "cell_type": "code",
   "execution_count": 33,
   "metadata": {},
   "outputs": [
    {
     "data": {
      "image/png": "[encoded data removed]",
      "text/plain": [
       "<Figure size 432x288 with 1 Axes>"
      ]
     },
     "metadata": {},
     "output_type": "display_data"
    }
   ],
   "source": [
    "plt.imshow(mnist.test.images[2:3].reshape((28,28)),cmap=plt.cm.gray_r)\n",
    "plt.show()    "
   ]
  }
 ],
 "metadata": {
  "kernelspec": {
   "display_name": "Python 3",
   "language": "python",
   "name": "python3"
  },
  "language_info": {
   "codemirror_mode": {
    "name": "ipython",
    "version": 3
   },
   "file_extension": ".py",
   "mimetype": "text/x-python",
   "name": "python",
   "nbconvert_exporter": "python",
   "pygments_lexer": "ipython3",
   "version": "3.6.5"
  }
 },
 "nbformat": 4,
 "nbformat_minor": 2
}
